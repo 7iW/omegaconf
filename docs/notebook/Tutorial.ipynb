{
 "cells": [
  {
   "cell_type": "markdown",
   "metadata": {},
   "source": [
    "# Installation\n",
    "Just pip install:\n",
    "\n",
    "```pip install omegaconf```\n",
    "\n",
    "If you want to try this notebook after checking out the repository be sure to run \n",
    "```python setup.py develop``` at the repository root before running this code."
   ]
  },
  {
   "cell_type": "markdown",
   "metadata": {},
   "source": [
    "# Creating OmegaConf objects\n",
    "### Empty"
   ]
  },
  {
   "cell_type": "code",
   "execution_count": null,
   "metadata": {
    "scrolled": true
   },
   "outputs": [],
   "source": [
    "from omegaconf import OmegaConf\n",
    "conf = OmegaConf.create()\n",
    "print(conf)"
   ]
  },
  {
   "cell_type": "markdown",
   "metadata": {},
   "source": [
    "### From a dictionary"
   ]
  },
  {
   "cell_type": "code",
   "execution_count": null,
   "metadata": {
    "scrolled": true
   },
   "outputs": [],
   "source": [
    "conf = OmegaConf.create(dict(k='v',list=[1,dict(a='1',b='2')]))\n",
    "print(conf.pretty())"
   ]
  },
  {
   "cell_type": "markdown",
   "metadata": {},
   "source": [
    "### From a list"
   ]
  },
  {
   "cell_type": "code",
   "execution_count": null,
   "metadata": {
    "scrolled": true
   },
   "outputs": [],
   "source": [
    "conf = OmegaConf.create([1, dict(a=10, b=dict(a=10))])\n",
    "print(conf.pretty())"
   ]
  },
  {
   "cell_type": "markdown",
   "metadata": {},
   "source": [
    "### From a yaml file"
   ]
  },
  {
   "cell_type": "code",
   "execution_count": null,
   "metadata": {
    "scrolled": true
   },
   "outputs": [],
   "source": [
    "conf = OmegaConf.load('../source/example.yaml')\n",
    "print(conf.pretty())"
   ]
  },
  {
   "cell_type": "markdown",
   "metadata": {},
   "source": [
    "### From a yaml string"
   ]
  },
  {
   "cell_type": "code",
   "execution_count": null,
   "metadata": {
    "scrolled": true
   },
   "outputs": [],
   "source": [
    "yaml = \"\"\"\n",
    "a: b\n",
    "b: c\n",
    "list:\n",
    "- item1\n",
    "- item2\n",
    "\"\"\"\n",
    "conf = OmegaConf.create(yaml)\n",
    "print(conf.pretty())"
   ]
  },
  {
   "cell_type": "markdown",
   "metadata": {},
   "source": [
    "### From a dot-list"
   ]
  },
  {
   "cell_type": "code",
   "execution_count": null,
   "metadata": {
    "scrolled": true
   },
   "outputs": [],
   "source": [
    "dot_list = [\"a.aa.aaa=1\", \"a.aa.bbb=2\", \"a.bb.aaa=3\", \"a.bb.bbb=4\"]\n",
    "conf = OmegaConf.from_dotlist(dot_list)\n",
    "print(conf.pretty())"
   ]
  },
  {
   "cell_type": "markdown",
   "metadata": {},
   "source": [
    "### From command line arguments\n",
    "\n",
    "To parse the content of sys.arg:"
   ]
  },
  {
   "cell_type": "code",
   "execution_count": null,
   "metadata": {
    "scrolled": true
   },
   "outputs": [],
   "source": [
    "# Simulating command line arguments\n",
    "import sys\n",
    "sys.argv = ['your-program.py', 'server.port=82', 'log.file=log2.txt']\n",
    "conf = OmegaConf.from_cli()\n",
    "print(conf.pretty())"
   ]
  },
  {
   "cell_type": "markdown",
   "metadata": {},
   "source": [
    "# Access and manipulation\n",
    "Input yaml file:"
   ]
  },
  {
   "cell_type": "code",
   "execution_count": null,
   "metadata": {
    "scrolled": true
   },
   "outputs": [],
   "source": [
    "%load '../source/example.yaml'\n"
   ]
  },
  {
   "cell_type": "markdown",
   "metadata": {},
   "source": [
    "#### Object style access:"
   ]
  },
  {
   "cell_type": "code",
   "execution_count": null,
   "metadata": {
    "scrolled": true
   },
   "outputs": [],
   "source": [
    "conf = OmegaConf.load('../source/example.yaml')\n",
    "conf.server.port"
   ]
  },
  {
   "cell_type": "markdown",
   "metadata": {},
   "source": [
    "#### dictionary style access"
   ]
  },
  {
   "cell_type": "code",
   "execution_count": null,
   "metadata": {
    "scrolled": true
   },
   "outputs": [],
   "source": [
    "conf['log']['rotation']"
   ]
  },
  {
   "cell_type": "markdown",
   "metadata": {},
   "source": [
    "#### items in list"
   ]
  },
  {
   "cell_type": "code",
   "execution_count": null,
   "metadata": {
    "scrolled": true
   },
   "outputs": [],
   "source": [
    "conf.users[0]"
   ]
  },
  {
   "cell_type": "markdown",
   "metadata": {},
   "source": [
    "#### Changing existing keys"
   ]
  },
  {
   "cell_type": "code",
   "execution_count": null,
   "metadata": {
    "scrolled": true
   },
   "outputs": [],
   "source": [
    "conf.server.port = 81"
   ]
  },
  {
   "cell_type": "markdown",
   "metadata": {},
   "source": [
    "#### Adding new keys"
   ]
  },
  {
   "cell_type": "code",
   "execution_count": null,
   "metadata": {
    "scrolled": true
   },
   "outputs": [],
   "source": [
    "conf.server.hostname = \"localhost\""
   ]
  },
  {
   "cell_type": "markdown",
   "metadata": {},
   "source": [
    "#### Adding a new dictionary"
   ]
  },
  {
   "cell_type": "code",
   "execution_count": null,
   "metadata": {
    "scrolled": true
   },
   "outputs": [],
   "source": [
    "conf.database = {'hostname': 'database01', 'port': 3306}"
   ]
  },
  {
   "cell_type": "markdown",
   "metadata": {},
   "source": [
    "#### providing default values"
   ]
  },
  {
   "cell_type": "code",
   "execution_count": null,
   "metadata": {
    "scrolled": true
   },
   "outputs": [],
   "source": [
    "conf.missing_key or 'a default value'\n",
    "conf.get('missing_key', 'a default value')"
   ]
  },
  {
   "cell_type": "markdown",
   "metadata": {},
   "source": [
    "#### Accessing mandatory values\n",
    "Accessing fields with the value *???* will cause a MissingMandatoryValue exception.\n",
    "Use this to indicate that the value must be set before accessing."
   ]
  },
  {
   "cell_type": "code",
   "execution_count": null,
   "metadata": {
    "scrolled": true
   },
   "outputs": [],
   "source": [
    "conf.log.file"
   ]
  },
  {
   "cell_type": "markdown",
   "metadata": {},
   "source": [
    "# Variable interpolation\n",
    "\n",
    "OmegaConf support variable interpolation, Interpolations are evaluated lazily on access.\n",
    "\n",
    "### Config node interpolation"
   ]
  },
  {
   "cell_type": "code",
   "execution_count": null,
   "metadata": {
    "scrolled": true
   },
   "outputs": [],
   "source": [
    "%load '../source/config_interpolation.yaml'"
   ]
  },
  {
   "cell_type": "markdown",
   "metadata": {},
   "source": [
    "Interpolations are evaluated lazily on field access.<br/>\n",
    "Note below that when printed the interpolations are not resolved.<br/>\n",
    "They get resolved once you access them."
   ]
  },
  {
   "cell_type": "code",
   "execution_count": null,
   "metadata": {
    "scrolled": true
   },
   "outputs": [],
   "source": [
    "conf = OmegaConf.load('../source/config_interpolation.yaml')\n",
    "print(conf.pretty())"
   ]
  },
  {
   "cell_type": "markdown",
   "metadata": {},
   "source": [
    "Primitive interpolations type is inherited from the referenced value.<br/>\n",
    "Composite interpolations type is always string.\n"
   ]
  },
  {
   "cell_type": "code",
   "execution_count": null,
   "metadata": {
    "scrolled": true
   },
   "outputs": [],
   "source": [
    "# Primitive interpolation types are inherited from the referenced value\n",
    "print(\"conf.client.server_port: \", conf.client.server_port, type(conf.client.server_port).__name__)\n",
    "# Composite interpolation types are always string\n",
    "print(\"conf.client.url: \", conf.client.url, type(conf.client.url).__name__)"
   ]
  },
  {
   "cell_type": "markdown",
   "metadata": {},
   "source": [
    "### Environment variable interpolation\n",
    "\n",
    "Environment variable interpolation is also supported.\n",
    "\n",
    "Input yaml file:"
   ]
  },
  {
   "cell_type": "code",
   "execution_count": null,
   "metadata": {
    "scrolled": true
   },
   "outputs": [],
   "source": [
    "%load '../source/env_interpolation.yaml'"
   ]
  },
  {
   "cell_type": "code",
   "execution_count": null,
   "metadata": {
    "scrolled": true
   },
   "outputs": [],
   "source": [
    "conf = OmegaConf.load('../source/env_interpolation.yaml')\n",
    "print(conf.user.name)\n",
    "print(conf.user.home)"
   ]
  },
  {
   "cell_type": "markdown",
   "metadata": {},
   "source": [
    "## Custom interpolations"
   ]
  },
  {
   "cell_type": "markdown",
   "metadata": {},
   "source": [
    "You can add additional interpolation types using custom resolvers. This example creates a resolver that adds 10 the the given value."
   ]
  },
  {
   "cell_type": "code",
   "execution_count": null,
   "metadata": {
    "scrolled": true
   },
   "outputs": [],
   "source": [
    "OmegaConf.register_resolver(\"plus_10\", lambda x: int(x) + 10)\n",
    "conf = OmegaConf.create({'key': '${plus_10:990}'})\n",
    "print(conf.key)"
   ]
  },
  {
   "cell_type": "markdown",
   "metadata": {},
   "source": [
    "# Merging configurations\n",
    "Merging configurations enables the creation of reusable configuration files for each logical component instead of a single config file for each variation of your task.\n",
    "\n",
    "Machine learning experiment example:\n",
    "```python\n",
    "conf = OmegaConf.merge(base_cfg, model_cfg, optimizer_cfg, dataset_cfg)\n",
    "```\n",
    "\n",
    "Web server configuration example:\n",
    "\n",
    "```python\n",
    "conf = OmegaConf.merge(server_cfg, plugin1_cfg, site1_cfg, site2_cfg)\n",
    "```\n",
    "\n",
    "The following example creates two configs from files, and one from the cli. It then combines them into a single object. Note how the port changes to 82, and how the users lists are combined."
   ]
  },
  {
   "cell_type": "code",
   "execution_count": null,
   "metadata": {
    "scrolled": true
   },
   "outputs": [],
   "source": [
    "%load '../source/example2.yaml'"
   ]
  },
  {
   "cell_type": "code",
   "execution_count": null,
   "metadata": {
    "scrolled": true
   },
   "outputs": [],
   "source": [
    "%load '../source/example3.yaml'"
   ]
  },
  {
   "cell_type": "code",
   "execution_count": null,
   "metadata": {
    "scrolled": true
   },
   "outputs": [],
   "source": [
    "from omegaconf import OmegaConf\n",
    "import sys\n",
    "base_conf = OmegaConf.load('../source/example2.yaml')\n",
    "second_conf = OmegaConf.load('../source/example3.yaml')\n",
    "\n",
    "# Merge configs:\n",
    "conf = OmegaConf.merge(base_conf, second_conf)\n",
    "\n",
    "# Simulate command line arguments\n",
    "sys.argv = ['program.py', 'server.port=82']\n",
    "# Merge with cli arguments\n",
    "conf.merge_with_cli()\n",
    "print(conf.pretty())"
   ]
  },
  {
   "cell_type": "code",
   "execution_count": null,
   "metadata": {
    "scrolled": true
   },
   "outputs": [],
   "source": []
  }
 ],
 "metadata": {
  "kernelspec": {
   "display_name": "Python 3",
   "language": "python",
   "name": "python3"
  },
  "language_info": {
   "codemirror_mode": {
    "name": "ipython",
    "version": 3
   },
   "file_extension": ".py",
   "mimetype": "text/x-python",
   "name": "python",
   "nbconvert_exporter": "python",
   "pygments_lexer": "ipython3",
   "version": "3.7.3"
  },
 },
 "nbformat": 4,
 "nbformat_minor": 2
}
